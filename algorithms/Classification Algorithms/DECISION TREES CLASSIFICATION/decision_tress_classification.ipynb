{
 "cells": [
  {
   "cell_type": "code",
   "execution_count": 13,
   "metadata": {},
   "outputs": [],
   "source": [
    "import pandas as pd\n",
    "import numpy as np\n",
    "from sklearn.model_selection import train_test_split\n",
    "from sklearn.tree import DecisionTreeClassifier\n",
    "from sklearn.preprocessing import LabelEncoder"
   ]
  },
  {
   "cell_type": "code",
   "execution_count": 14,
   "metadata": {},
   "outputs": [],
   "source": [
    "def convert_string_to_numeric(df):\n",
    "    le = LabelEncoder()\n",
    "    all_encoded = dict()\n",
    "\n",
    "    for column in df.select_dtypes(include='object').columns:\n",
    "        df[column] = le.fit_transform(df[column])\n",
    "        label_mapping = dict(zip(le.classes_, le.transform(le.classes_)))\n",
    "        all_encoded[column] = label_mapping\n",
    "    return df,all_encoded"
   ]
  },
  {
   "cell_type": "code",
   "execution_count": 15,
   "metadata": {},
   "outputs": [],
   "source": [
    "def get_key(dictionary, value):\n",
    "    for key, val in dictionary.items():\n",
    "        if val == value:\n",
    "            return key\n",
    "    \n",
    "    raise ValueError(\"Value not found in the dictionary\")"
   ]
  },
  {
   "cell_type": "code",
   "execution_count": 16,
   "metadata": {},
   "outputs": [],
   "source": [
    "def DecisionTree_Classifier(df, target_column ):\n",
    "    x = df.drop(target_column, axis=1)\n",
    "    y = df[target_column]\n",
    "    x_train, x_test, y_train, y_test = train_test_split(x, y, test_size=0.1)\n",
    "    model = DecisionTreeClassifier(random_state=42)\n",
    "    model.fit(x_train, y_train)\n",
    "    acc = model.score(x_test, y_test)  \n",
    "    return model, acc"
   ]
  },
  {
   "cell_type": "code",
   "execution_count": 17,
   "metadata": {},
   "outputs": [],
   "source": [
    "if __name__ == \"__main__\":\n",
    "    file_name = r\"C:\\Programming\\PROJECTS\\ML-algo-site\\Data sets\\HeartDiseaseTrain-Test.csv\"\n",
    "    extension = [\".csv\", \".xlsx\"]\n",
    "\n",
    "    if file_name.endswith(extension[0]):\n",
    "        df = pd.read_csv(file_name)\n",
    "    elif file_name.endswith(extension[1]):\n",
    "        df = pd.read_excel(file_name)\n",
    "    else:\n",
    "        print(\"file format not supported\")\n",
    "\n",
    "    target_column = \"target\"\n",
    "    \n",
    "   \n",
    "\n",
    "    df, all_encoded = convert_string_to_numeric(df)\n",
    "    max_acc = 0\n",
    "\n",
    "    for i in range(10):\n",
    "        temp, acc = DecisionTree_Classifier(df, target_column)\n",
    "        if acc > max_acc:\n",
    "            model = temp\n",
    "            max_acc = acc"
   ]
  },
  {
   "cell_type": "code",
   "execution_count": 18,
   "metadata": {},
   "outputs": [],
   "source": [
    "file_path = \"feature_info.txt\"\n",
    "all_encoded_txt = str(all_encoded)\n",
    "col = \", \".join(list(df.drop(target_column, axis=1).columns))\n",
    "\n",
    "with open(file_path, 'w', encoding='utf-8') as file:\n",
    "    file.write(\"All features = \" + col + \"\\n\")\n",
    "    file.write(\"Encoded features = \" + all_encoded_txt)"
   ]
  },
  {
   "cell_type": "code",
   "execution_count": 19,
   "metadata": {},
   "outputs": [
    {
     "name": "stdout",
     "output_type": "stream",
     "text": [
      "Max Accuracy: 1.0\n"
     ]
    }
   ],
   "source": [
    "print(\"Max Accuracy:\", max_acc)\n"
   ]
  }
 ],
 "metadata": {
  "kernelspec": {
   "display_name": "Python 3",
   "language": "python",
   "name": "python3"
  },
  "language_info": {
   "codemirror_mode": {
    "name": "ipython",
    "version": 3
   },
   "file_extension": ".py",
   "mimetype": "text/x-python",
   "name": "python",
   "nbconvert_exporter": "python",
   "pygments_lexer": "ipython3",
   "version": "3.11.2"
  }
 },
 "nbformat": 4,
 "nbformat_minor": 2
}
