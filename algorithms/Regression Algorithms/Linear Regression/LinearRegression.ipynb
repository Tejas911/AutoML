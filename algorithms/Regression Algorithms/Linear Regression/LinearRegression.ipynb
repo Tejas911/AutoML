{
 "cells": [
  {
   "cell_type": "code",
   "execution_count": 50,
   "metadata": {},
   "outputs": [],
   "source": [
    "import pandas as pd\n",
    "import numpy as np\n",
    "import sklearn\n",
    "from sklearn import linear_model\n",
    "from sklearn.utils import shuffle\n",
    "from sklearn.preprocessing import LabelEncoder\n"
   ]
  },
  {
   "cell_type": "code",
   "execution_count": 51,
   "metadata": {},
   "outputs": [],
   "source": [
    "# Function to convert string columns to numeric using label encoding\n",
    "def convert_string_to_numeric(df):\n",
    "    le = LabelEncoder()\n",
    "    all_encoded = dict()\n",
    "#     print(df.select_dtypes(include='object').columns)\n",
    "    for column in df.select_dtypes(include='object').columns:\n",
    "        df[column] = le.fit_transform(df[column])\n",
    "        label_mapping = dict(zip(le.classes_, le.transform(le.classes_)))\n",
    "        all_encoded[column] = label_mapping\n",
    "    return df,all_encoded"
   ]
  },
  {
   "cell_type": "code",
   "execution_count": 52,
   "metadata": {},
   "outputs": [],
   "source": [
    "def get_key(dictionary, value):\n",
    "    for key, val in dictionary.items():\n",
    "        if val == value:\n",
    "            return key\n",
    "    # If the value is not found, you might want to handle this case accordingly\n",
    "    raise ValueError(\"Value not found in the dictionary\")"
   ]
  },
  {
   "cell_type": "code",
   "execution_count": 53,
   "metadata": {},
   "outputs": [],
   "source": [
    "def linear_regression(df, target_column):\n",
    "    x = df.drop(target_column, axis=1)\n",
    "    y = df[target_column]\n",
    "    x_train, x_test, y_train, y_test = sklearn.model_selection.train_test_split(x, y, test_size = 0.1)\n",
    "    linear = linear_model.LinearRegression()\n",
    "    linear.fit(x_train, y_train)\n",
    "    acc = linear.score(x_test, y_test) # acc stands for accuracy \n",
    "    # print(acc)\n",
    "    return linear,acc"
   ]
  },
  {
   "cell_type": "code",
   "execution_count": 54,
   "metadata": {},
   "outputs": [],
   "source": [
    "if __name__ == \"__main__\":\n",
    "\n",
    "    file_name = r\"C:\\Programming\\PROJECTS\\ML_MODEL\\DATA\\laptops.csv\"\n",
    "\n",
    "    extension=[\".csv\",\".xlsx\"]\n",
    "    if (file_name.endswith(extension[0])):\n",
    "        df = pd.read_csv(file_name)\n",
    "    elif(file_name.endswith(extension[1])):\n",
    "        df = pd.read_excel(file_name)\n",
    "    else:\n",
    "        print(\"file format not supported\")\n",
    "    \n",
    "    target_column = \"Price\"\n",
    "    df, all_encoded = convert_string_to_numeric(df)\n",
    "    max_acc = 0\n",
    "\n",
    "    for i in range(100):\n",
    "        temp,acc = linear_regression(df, target_column)\n",
    "        if acc > max_acc:\n",
    "            model = temp\n",
    "            max_acc = acc\n"
   ]
  },
  {
   "cell_type": "code",
   "execution_count": 55,
   "metadata": {},
   "outputs": [],
   "source": [
    "\n",
    "file_path = \"feature_info.txt\"\n",
    "all_encoded_txt = str(all_encoded)\n",
    "col =\", \".join(list(df.drop(target_column, axis=1).columns))\n",
    "\n",
    "\n",
    "with open(file_path, 'w', encoding='utf-8') as file:\n",
    "    file.write(\"All features = \"+col+\"\\n\")\n",
    "    file.write(\"Encoded features = \"+all_encoded_txt)\n"
   ]
  },
  {
   "cell_type": "code",
   "execution_count": 56,
   "metadata": {},
   "outputs": [
    {
     "name": "stdout",
     "output_type": "stream",
     "text": [
      "0.019515330855147228\n"
     ]
    }
   ],
   "source": [
    "#ans = temp.predict([[],])\n",
    "print(max_acc)\n",
    "\n",
    "\n"
   ]
  }
 ],
 "metadata": {
  "kernelspec": {
   "display_name": "Python 3",
   "language": "python",
   "name": "python3"
  },
  "language_info": {
   "codemirror_mode": {
    "name": "ipython",
    "version": 3
   },
   "file_extension": ".py",
   "mimetype": "text/x-python",
   "name": "python",
   "nbconvert_exporter": "python",
   "pygments_lexer": "ipython3",
   "version": "3.11.2"
  }
 },
 "nbformat": 4,
 "nbformat_minor": 2
}
