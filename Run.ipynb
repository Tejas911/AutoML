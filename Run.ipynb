{
 "cells": [
  {
   "cell_type": "code",
   "execution_count": null,
   "id": "17adaff8-23c0-4f38-92ac-965aa302f9aa",
   "metadata": {},
   "outputs": [],
   "source": [
    "import pandas as pd "
   ]
  },
  {
   "cell_type": "code",
   "execution_count": null,
   "id": "cd6bb259",
   "metadata": {},
   "outputs": [],
   "source": [
    "# NOTE : IF your model is of regression then run this cell\n",
    "\n",
    "from pycaret.regression import load_model"
   ]
  },
  {
   "cell_type": "code",
   "execution_count": null,
   "id": "c7585c30-50d9-4c1e-af78-c07334909b84",
   "metadata": {},
   "outputs": [],
   "source": [
    "model = load_model(r'best_model') # Add model name"
   ]
  },
  {
   "cell_type": "code",
   "execution_count": null,
   "id": "0062b07b-8297-4c66-b241-1f902e895266",
   "metadata": {},
   "outputs": [],
   "source": [
    "model"
   ]
  },
  {
   "cell_type": "code",
   "execution_count": null,
   "id": "47cda6d1-5771-4db2-b8ff-1d5e77047068",
   "metadata": {},
   "outputs": [],
   "source": [
    "df = pd.read_csv(r\"\")   # Add name of csv file to read data\n",
    "x = df.drop([\"\"],axis=1)    # uncomment if you have target in the dataframe\n"
   ]
  },
  {
   "cell_type": "code",
   "execution_count": null,
   "id": "b3d8291b",
   "metadata": {},
   "outputs": [],
   "source": [
    "model.predict(x)\n"
   ]
  }
 ],
 "metadata": {
  "kernelspec": {
   "display_name": "Python 3 (ipykernel)",
   "language": "python",
   "name": "python3"
  },
  "language_info": {
   "codemirror_mode": {
    "name": "ipython",
    "version": 3
   },
   "file_extension": ".py",
   "mimetype": "text/x-python",
   "name": "python",
   "nbconvert_exporter": "python",
   "pygments_lexer": "ipython3",
   "version": "3.11.2"
  }
 },
 "nbformat": 4,
 "nbformat_minor": 5
}
