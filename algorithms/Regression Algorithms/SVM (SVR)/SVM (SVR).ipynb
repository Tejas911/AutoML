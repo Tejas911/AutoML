{
 "cells": [
  {
   "cell_type": "code",
   "execution_count": 32,
   "metadata": {},
   "outputs": [],
   "source": [
    "import pandas as pd\n",
    "from sklearn.model_selection import train_test_split\n",
    "import sklearn\n",
    "from sklearn.preprocessing import LabelEncoder\n",
    "from sklearn.metrics import accuracy_score\n",
    "from sklearn import svm\n"
   ]
  },
  {
   "cell_type": "code",
   "execution_count": 33,
   "metadata": {},
   "outputs": [],
   "source": [
    "# Function to convert string columns to numeric using label encoding\n",
    "def convert_string_to_numeric(df):\n",
    "    le = LabelEncoder()\n",
    "    all_encoded = dict()\n",
    "#     print(df.select_dtypes(include='object').columns)\n",
    "    for column in df.select_dtypes(include='object').columns:\n",
    "        df[column] = le.fit_transform(df[column])\n",
    "        label_mapping = dict(zip(le.classes_, le.transform(le.classes_)))\n",
    "        all_encoded[column] = label_mapping\n",
    "    return df,all_encoded"
   ]
  },
  {
   "cell_type": "code",
   "execution_count": 34,
   "metadata": {},
   "outputs": [],
   "source": [
    "def get_key(dictionary, value):\n",
    "    for key, val in dictionary.items():\n",
    "        if val == value:\n",
    "            return key\n",
    "    # If the value is not found, you might want to handle this case accordingly\n",
    "    raise ValueError(\"Value not found in the dictionary\")"
   ]
  },
  {
   "cell_type": "code",
   "execution_count": 35,
   "metadata": {},
   "outputs": [],
   "source": [
    "# Function to train a decision tree classifier\n",
    "def svm_reg(df, target_column,kernel=\"rbf\"):\n",
    "    x = df.drop(target_column, axis=1)\n",
    "    y = df[target_column]\n",
    "\n",
    "    x_train, x_test, y_train, y_test = train_test_split(\n",
    "        x, y, test_size=0.2, random_state=42\n",
    "    )\n",
    "\n",
    "    reg = svm.SVC(kernel=kernel)\n",
    "\n",
    "    reg.fit(x_train, y_train)\n",
    "    acc = reg.score(x_test, y_test)\n",
    "\n",
    "    return reg,acc\n",
    "\n"
   ]
  },
  {
   "cell_type": "code",
   "execution_count": 36,
   "metadata": {},
   "outputs": [],
   "source": [
    "if __name__ == \"__main__\":\n",
    "\n",
    "    file_name = r\"C:\\Users\\Tejas\\OneDrive\\Desktop\\T_work\\ML Algo Site\\Data sets\\Titanic.csv\"\n",
    "\n",
    "    df = pd.read_csv(file_name)\n",
    "\n",
    "    target_column = \"Survived\"\n",
    "    kernels = [\"linear\",\"poly\",\"rbf\",\"sigmoid\"]\n",
    "    \n",
    "    df, all_encoded = convert_string_to_numeric(df)\n",
    "\n",
    "    model,acc = svm_reg(df, target_column,kernels[0])   "
   ]
  },
  {
   "cell_type": "code",
   "execution_count": 37,
   "metadata": {},
   "outputs": [],
   "source": [
    "\n",
    "file_path = \"feature_info.txt\"\n",
    "all_encoded_txt = str(all_encoded)\n",
    "col =\", \".join(list(df.drop(target_column, axis=1).columns))\n",
    "\n",
    "\n",
    "with open(file_path, 'w', encoding='utf-8') as file:\n",
    "    file.write(\"All features = \"+col+\"\\n\")\n",
    "    file.write(\"Encoded features = \"+all_encoded_txt)"
   ]
  },
  {
   "cell_type": "code",
   "execution_count": 38,
   "metadata": {},
   "outputs": [
    {
     "name": "stdout",
     "output_type": "stream",
     "text": [
      "61.452513966480446\n"
     ]
    }
   ],
   "source": [
    "\n",
    "print(f\"{acc*100}\")\n",
    "\n",
    "# ans = clf.predict([df.iloc[11][:-1],])\n",
    "# print(ans)\n"
   ]
  },
  {
   "cell_type": "code",
   "execution_count": null,
   "metadata": {},
   "outputs": [],
   "source": []
  }
 ],
 "metadata": {
  "kernelspec": {
   "display_name": "Python 3",
   "language": "python",
   "name": "python3"
  },
  "language_info": {
   "codemirror_mode": {
    "name": "ipython",
    "version": 3
   },
   "file_extension": ".py",
   "mimetype": "text/x-python",
   "name": "python",
   "nbconvert_exporter": "python",
   "pygments_lexer": "ipython3",
   "version": "3.11.2"
  }
 },
 "nbformat": 4,
 "nbformat_minor": 2
}
